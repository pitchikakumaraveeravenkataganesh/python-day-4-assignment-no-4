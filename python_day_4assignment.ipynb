{
  "nbformat": 4,
  "nbformat_minor": 0,
  "metadata": {
    "colab": {
      "name": "python day 4assignment.ipynb",
      "provenance": [],
      "collapsed_sections": [],
      "authorship_tag": "ABX9TyNKWktHlT90gCOMovFQyYzB",
      "include_colab_link": true
    },
    "kernelspec": {
      "name": "python3",
      "display_name": "Python 3"
    },
    "language_info": {
      "name": "python"
    }
  },
  "cells": [
    {
      "cell_type": "markdown",
      "metadata": {
        "id": "view-in-github",
        "colab_type": "text"
      },
      "source": [
        "<a href=\"https://colab.research.google.com/github/pitchikakumaraveeravenkataganesh/python-day-4-assignment-no-4/blob/main/python_day_4assignment.ipynb\" target=\"_parent\"><img src=\"https://colab.research.google.com/assets/colab-badge.svg\" alt=\"Open In Colab\"/></a>"
      ]
    },
    {
      "cell_type": "code",
      "metadata": {
        "colab": {
          "base_uri": "https://localhost:8080/"
        },
        "id": "AUdUMrAIuWEt",
        "outputId": "fd56faf1-d463-47f6-fab2-17b3b58f885e"
      },
      "source": [
        "#all altitude in feet\n",
        "\n",
        "alt_req= int(input(\"enter the valuue of a altitude--->  \"))\n",
        "\n",
        "if alt_req<1000:\n",
        "     print(\"safe to land ,please land the plane correctly and safely\")\n",
        "elif  alt_req<1000 and alt_req>5000:\n",
        "       print(\"bring down to 1000feet\")\n",
        "else:\n",
        "      print(\"turn around\")\n",
        "                  "
      ],
      "execution_count": null,
      "outputs": [
        {
          "output_type": "stream",
          "text": [
            "enter the valuue of a altitude--->  105\n",
            "safe to land ,please land the plane correctly and safely\n"
          ],
          "name": "stdout"
        }
      ]
    }
  ]
}